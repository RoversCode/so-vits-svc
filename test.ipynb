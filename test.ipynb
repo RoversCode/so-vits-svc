{
 "cells": [
  {
   "cell_type": "code",
   "execution_count": 1,
   "metadata": {},
   "outputs": [],
   "source": [
    "import utils\n",
    "\n",
    "f0_predictor = utils.get_f0_predictor('rmvpe',\n",
    "                                        sampling_rate=44100,\n",
    "                                        hop_length=512,\n",
    "                                        device='cuda',\n",
    "                                        threshold=0.05)"
   ]
  },
  {
   "cell_type": "code",
   "execution_count": 2,
   "metadata": {},
   "outputs": [],
   "source": [
    "import librosa\n",
    "wav, sr = librosa.load(\"notebook/test_audios/ref_audio/24k_xigua.wav\", sr=44100)"
   ]
  },
  {
   "cell_type": "code",
   "execution_count": 3,
   "metadata": {},
   "outputs": [],
   "source": [
    "import time\n",
    "\n",
    "\n",
    "f0, uv = f0_predictor.compute_f0_uv(wav)\n"
   ]
  },
  {
   "cell_type": "code",
   "execution_count": 8,
   "metadata": {},
   "outputs": [],
   "source": [
    "import yaml\n",
    "config = yaml.safe_load(open('configs/pretrained/config.yaml'))"
   ]
  },
  {
   "cell_type": "code",
   "execution_count": 11,
   "metadata": {},
   "outputs": [],
   "source": [
    "config.update()"
   ]
  },
  {
   "cell_type": "code",
   "execution_count": 2,
   "metadata": {},
   "outputs": [],
   "source": [
    "all_data = []\n",
    "with open(\"Data/backup/raw_text_en.list\", 'r') as f:\n",
    "    for line in f:\n",
    "        all_data.append(line.strip())\n",
    "with open(\"Data/raw_text.list\", 'r') as f:\n",
    "    for line in f:\n",
    "        all_data.append(line.strip())"
   ]
  },
  {
   "cell_type": "code",
   "execution_count": 4,
   "metadata": {},
   "outputs": [],
   "source": [
    "import random\n",
    "\n",
    "random.shuffle(all_data)\n",
    "\n",
    "valid = all_data[:10]\n",
    "train = all_data[10:]"
   ]
  },
  {
   "cell_type": "code",
   "execution_count": 6,
   "metadata": {},
   "outputs": [],
   "source": [
    "with open(\"Data/sovits_svc/train.list\",'w') as f:\n",
    "    for line in train:\n",
    "        line = line.strip()\n",
    "        f.write(line + '\\n')\n",
    "\n",
    "with open(\"Data/sovits_svc/dev.list\",'w') as f:\n",
    "    for line in valid:\n",
    "        line = line.strip()\n",
    "        f.write(line + '\\n')"
   ]
  },
  {
   "cell_type": "code",
   "execution_count": 3,
   "metadata": {},
   "outputs": [],
   "source": [
    "with open(\"Data/raw_text.list\",'w') as f:\n",
    "    for line in all_data:\n",
    "        line = line.strip()\n",
    "        f.write(line + '\\n')"
   ]
  },
  {
   "cell_type": "code",
   "execution_count": 13,
   "metadata": {},
   "outputs": [],
   "source": [
    "import os\n",
    "from pathlib import Path\n",
    "\n",
    "\n",
    "dir = \"ckpts/sunyanzi/audio_slice/sunyanzi\"\n",
    "p = Path(dir)"
   ]
  },
  {
   "cell_type": "code",
   "execution_count": 9,
   "metadata": {},
   "outputs": [],
   "source": [
    "def move_files_simple(source_dir, target_dir):\n",
    "    source_path = Path(source_dir)\n",
    "    target_path = Path(target_dir)\n",
    "    \n",
    "    # 确保目标目录存在\n",
    "    target_path.mkdir(parents=True, exist_ok=True)\n",
    "    \n",
    "    # 移动所有文件\n",
    "    for file_path in source_path.glob(\"*.wav\"):\n",
    "        if file_path.is_file():\n",
    "            file_path.rename(target_path / file_path.name)\n",
    "            print(f\"Moved: {file_path.name}\")"
   ]
  },
  {
   "cell_type": "code",
   "execution_count": null,
   "metadata": {},
   "outputs": [],
   "source": [
    "move_files_simple(p, p.parent.parent/'sunyanzi')"
   ]
  },
  {
   "cell_type": "code",
   "execution_count": 5,
   "metadata": {},
   "outputs": [],
   "source": [
    "from pathlib import Path\n",
    "\n",
    "t = Path(\"ckpts/sunyanzi/audio_slice/sunyanzi/sunyanzi_000000.wav\")"
   ]
  },
  {
   "cell_type": "code",
   "execution_count": 6,
   "metadata": {},
   "outputs": [
    {
     "data": {
      "text/plain": [
       "'sunyanzi_000000_f0.npy'"
      ]
     },
     "execution_count": 6,
     "metadata": {},
     "output_type": "execute_result"
    }
   ],
   "source": [
    "\"_\".join(t.stem.split('_')[:2]) + '_f0.npy'"
   ]
  },
  {
   "cell_type": "code",
   "execution_count": 9,
   "metadata": {},
   "outputs": [
    {
     "data": {
      "text/plain": [
       "False"
      ]
     },
     "execution_count": 9,
     "metadata": {},
     "output_type": "execute_result"
    }
   ],
   "source": [
    "any(t.glob(\"g_*.pth\"))"
   ]
  },
  {
   "cell_type": "code",
   "execution_count": 8,
   "metadata": {},
   "outputs": [
    {
     "data": {
      "text/plain": [
       "[]"
      ]
     },
     "execution_count": 8,
     "metadata": {},
     "output_type": "execute_result"
    }
   ],
   "source": [
    " list(t.glob(\"g_*.pth\"))"
   ]
  },
  {
   "cell_type": "code",
   "execution_count": null,
   "metadata": {},
   "outputs": [],
   "source": [
    "import sys\n",
    "import os\n",
    "import torch\n",
    "import torch.backends.cudnn as cudnn\n",
    "\n",
    "def check_environment():\n",
    "    print(\"=== Python Environment ===\")\n",
    "    print(f\"Python executable: {sys.executable}\")\n",
    "    print(f\"Python version: {sys.version}\")\n",
    "    \n",
    "    print(\"\\n=== PyTorch Information ===\")\n",
    "    print(f\"PyTorch location: {torch.__file__}\")\n",
    "    print(f\"PyTorch version: {torch.__version__}\")\n",
    "    print(f\"CUDA available: {torch.cuda.is_available()}\")\n",
    "    print(f\"CUDA version: {torch.version.cuda}\")\n",
    "    print(f\"CUDNN version: {cudnn.version()}\")\n",
    "    \n",
    "    print(\"\\n=== Environment Variables ===\")\n",
    "    print(f\"CONDA_PREFIX: {os.environ.get('CONDA_PREFIX', 'Not set')}\")\n",
    "    print(f\"LD_LIBRARY_PATH: {os.environ.get('LD_LIBRARY_PATH', 'Not set')}\")\n",
    "    \n",
    "    if torch.cuda.is_available():\n",
    "        print(\"\\n=== CUDA Device Information ===\")\n",
    "        print(f\"Current device: {torch.cuda.current_device()}\")\n",
    "        print(f\"Device name: {torch.cuda.get_device_name()}\")\n",
    "        try:\n",
    "            print(f\"Device capability: {torch.cuda.get_device_capability()}\")\n",
    "        except AttributeError:\n",
    "            pass\n",
    "    \n",
    "    print(\"\\n=== Python Path ===\")\n",
    "    for path in sys.path:\n",
    "        print(path)\n",
    "    \n",
    "    # 尝试定位 CUDA 相关库\n",
    "    print(\"\\n=== CUDA Library Check ===\")\n",
    "    torch_path = os.path.dirname(torch.__file__)\n",
    "    print(f\"Looking for CUDA libraries in: {torch_path}\")\n",
    "    \n",
    "    # 检查常见的库文件位置\n",
    "    cuda_paths = [\n",
    "        os.path.join(torch_path, 'lib'),\n",
    "        os.environ.get('CONDA_PREFIX', ''),\n",
    "        '/usr/local/cuda/lib64',\n",
    "        '/usr/lib/x86_64-linux-gnu'\n",
    "    ]\n",
    "    \n",
    "    for path in cuda_paths:\n",
    "        if os.path.exists(path):\n",
    "            print(f\"\\nChecking {path}:\")\n",
    "            cuda_libs = [f for f in os.listdir(path) if 'cuda' in f.lower() or 'cudnn' in f.lower()]\n",
    "            for lib in cuda_libs:\n",
    "                print(f\"Found: {lib}\")\n",
    "\n",
    "if __name__ == \"__main__\":\n",
    "    check_environment()"
   ]
  },
  {
   "cell_type": "code",
   "execution_count": 1,
   "metadata": {},
   "outputs": [],
   "source": [
    "import torch"
   ]
  },
  {
   "cell_type": "code",
   "execution_count": 2,
   "metadata": {},
   "outputs": [],
   "source": [
    "# sovits底膜专用\n",
    "def remove_optimizer(path):\n",
    "    ckpt = torch.load(path, map_location='cpu')\n",
    "    ckpt['optimizer'] = None\n",
    "    torch.save(ckpt, path)\n",
    "    "
   ]
  },
  {
   "cell_type": "code",
   "execution_count": 4,
   "metadata": {},
   "outputs": [],
   "source": [
    "remove_optimizer(\"/datadisk/liujunjie/so-vits-svc/ckpts/test/models/D_120000.pth\")"
   ]
  },
  {
   "cell_type": "code",
   "execution_count": 1,
   "metadata": {},
   "outputs": [],
   "source": [
    "from pathlib import Path\n",
    "\n",
    "model_dir = Path(\"ckpts/sunyanzi/diffusion\")"
   ]
  },
  {
   "cell_type": "code",
   "execution_count": 5,
   "metadata": {},
   "outputs": [],
   "source": [
    "f_list = list(model_dir.glob(\"*.pt\"))\n",
    "\n",
    "f_list.sort(\n",
    "    key=lambda f: int(\"\".join(filter(str.isdigit, f))))"
   ]
  },
  {
   "cell_type": "code",
   "execution_count": 1,
   "metadata": {},
   "outputs": [
    {
     "data": {
      "text/plain": [
       "69729"
      ]
     },
     "execution_count": 1,
     "metadata": {},
     "output_type": "execute_result"
    }
   ],
   "source": [
    "import os\n",
    "\n",
    "len(os.listdir(\"/datadisk/liujunjie/so-vits-svc/raw_audios/preprocess/sing_10s/timbre_feature\"))"
   ]
  },
  {
   "cell_type": "code",
   "execution_count": null,
   "metadata": {},
   "outputs": [],
   "source": [
    "from multiprocessing.managers import BaseManager\n",
    "import time\n",
    "\n",
    "def connect_to_server():\n",
    "    # 定义QueueManager\n",
    "    class QueueManager(BaseManager):\n",
    "        pass\n",
    "\n",
    "    # 注册队列\n",
    "    QueueManager.register('get_train_queue')\n",
    "    QueueManager.register('get_dev_queue')\n",
    "\n",
    "    # 创建管理器实例\n",
    "    manager = QueueManager(\n",
    "        address=('127.0.0.1', 12345),\n",
    "        authkey=b'liujunjieabracadabra'\n",
    "    )\n",
    "\n",
    "    # 尝试连接\n",
    "    try:\n",
    "        manager.connect()\n",
    "        print(\"成功连接到服务器\")\n",
    "        return manager\n",
    "    except Exception as e:\n",
    "        print(f\"连接失败: {e}\")\n",
    "        return None\n",
    "\n",
    "def main():\n",
    "    # 连接服务器\n",
    "    manager = connect_to_server()\n",
    "    if not manager:\n",
    "        return\n",
    "\n",
    "    # 获取队列\n",
    "    train_queue = manager.get_train_queue()\n",
    "    # dev_queue = manager.get_dev_queue()\n",
    "\n",
    "    # 持续从队列获取数据\n",
    "    try:\n",
    "        while True:\n",
    "            # 尝试从训练队列获取数据\n",
    "            try:\n",
    "                train_data = train_queue.get(timeout=5)  # 5秒超时\n",
    "                print(\"收到训练数据:\", train_data)\n",
    "                # 这里处理train_data...\n",
    "            except:\n",
    "                print(\"训练队列暂无数据\")\n",
    "\n",
    "            # # 尝试从开发队列获取数据\n",
    "            # try:\n",
    "            #     dev_data = dev_queue.get(timeout=5)  # 5秒超时\n",
    "            #     print(\"收到开发数据:\", dev_data)\n",
    "            #     # 这里处理dev_data...\n",
    "            # except:\n",
    "            #     print(\"开发队列暂无数据\")\n",
    "\n",
    "            time.sleep(1)  # 避免过于频繁的请求\n",
    "\n",
    "    except KeyboardInterrupt:\n",
    "        print(\"程序终止\")\n",
    "    except Exception as e:\n",
    "        print(f\"运行出错: {e}\")\n",
    "\n",
    "if __name__ == '__main__':\n",
    "    main()"
   ]
  },
  {
   "cell_type": "code",
   "execution_count": 4,
   "metadata": {},
   "outputs": [
    {
     "data": {
      "text/plain": [
       "1026100"
      ]
     },
     "execution_count": 4,
     "metadata": {},
     "output_type": "execute_result"
    }
   ],
   "source": [
    "import os\n",
    "\n",
    "len(os.listdir(\"/datadisk/liujunjie/so-vits-svc/Data/sovits_svc/f0s\"))"
   ]
  },
  {
   "cell_type": "code",
   "execution_count": 1,
   "metadata": {},
   "outputs": [
    {
     "data": {
      "text/plain": [
       "1024580"
      ]
     },
     "execution_count": 1,
     "metadata": {},
     "output_type": "execute_result"
    }
   ],
   "source": [
    "data = []\n",
    "with open(\"Data/raw_text.list\",'r') as f:\n",
    "    for line in f:\n",
    "        data.append(line.strip())\n",
    "len(data)"
   ]
  },
  {
   "cell_type": "code",
   "execution_count": 8,
   "metadata": {},
   "outputs": [],
   "source": [
    "import random\n",
    "random.shuffle(data)\n",
    "\n",
    "data = data[:60000]\n",
    "\n",
    "new_data = []\n",
    "\n",
    "for line in data:\n",
    "    line = line.strip().split(\"|\")\n",
    "    if len(line[2]) < 30:\n",
    "        new_data.append(line)\n",
    "    if len(new_data) > 60000:\n",
    "        break\n",
    "\n"
   ]
  },
  {
   "cell_type": "code",
   "execution_count": 24,
   "metadata": {},
   "outputs": [
    {
     "name": "stdout",
     "output_type": "stream",
     "text": [
      "952\n"
     ]
    }
   ],
   "source": [
    "import json\n",
    "\n",
    "sing_spk_info = json.load(open(\"Data/backup/sing_spk_info.json\",'r'))\n",
    "print(len(sing_spk_info))\n",
    "\n"
   ]
  },
  {
   "cell_type": "code",
   "execution_count": 25,
   "metadata": {},
   "outputs": [],
   "source": [
    "sing_data = []\n",
    "with open(\"/datadisk/liujunjie/so-vits-svc/Data/sing_raw_text.list\",'r') as f:\n",
    "    for line in f:\n",
    "        line = line.strip()\n",
    "        sing_data.append(line)\n",
    "        "
   ]
  },
  {
   "cell_type": "code",
   "execution_count": 26,
   "metadata": {},
   "outputs": [],
   "source": [
    "for line in new_data:\n",
    "    # line = line.strip().split(\"|\")\n",
    "    if line[2] not in sing_spk_info:\n",
    "        sing_spk_info[line[2]] = len(sing_spk_info)\n",
    "    sing_data.append(\"|\".join(line))\n",
    "\n",
    "json.dump(sing_spk_info,open(\"Data/sovits_svc/sing_spk_info.json\",'w'),indent=4,ensure_ascii=False)\n"
   ]
  },
  {
   "cell_type": "code",
   "execution_count": 27,
   "metadata": {},
   "outputs": [],
   "source": [
    "random.shuffle(sing_data)\n",
    "\n",
    "with open(\"Data/sing_raw_text.list\",'w') as f:\n",
    "    for line in sing_data:\n",
    "        f.write(line + '\\n')"
   ]
  },
  {
   "cell_type": "code",
   "execution_count": 25,
   "metadata": {},
   "outputs": [
    {
     "data": {
      "text/plain": [
       "1144036"
      ]
     },
     "execution_count": 25,
     "metadata": {},
     "output_type": "execute_result"
    }
   ],
   "source": [
    "import os\n",
    "\n",
    "len(os.listdir(\"Data/sovits_svc/ssls\"))"
   ]
  }
 ],
 "metadata": {
  "kernelspec": {
   "display_name": "sovits",
   "language": "python",
   "name": "python3"
  },
  "language_info": {
   "codemirror_mode": {
    "name": "ipython",
    "version": 3
   },
   "file_extension": ".py",
   "mimetype": "text/x-python",
   "name": "python",
   "nbconvert_exporter": "python",
   "pygments_lexer": "ipython3",
   "version": "3.8.20"
  }
 },
 "nbformat": 4,
 "nbformat_minor": 2
}
