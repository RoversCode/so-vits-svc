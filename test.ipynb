{
 "cells": [
  {
   "cell_type": "code",
   "execution_count": 1,
   "metadata": {},
   "outputs": [],
   "source": [
    "import utils\n",
    "\n",
    "f0_predictor = utils.get_f0_predictor('rmvpe',\n",
    "                                        sampling_rate=44100,\n",
    "                                        hop_length=512,\n",
    "                                        device='cuda',\n",
    "                                        threshold=0.05)"
   ]
  },
  {
   "cell_type": "code",
   "execution_count": 2,
   "metadata": {},
   "outputs": [],
   "source": [
    "import librosa\n",
    "wav, sr = librosa.load(\"notebook/test_audios/ref_audio/24k_xigua.wav\", sr=44100)"
   ]
  },
  {
   "cell_type": "code",
   "execution_count": 3,
   "metadata": {},
   "outputs": [],
   "source": [
    "import time\n",
    "\n",
    "\n",
    "f0, uv = f0_predictor.compute_f0_uv(wav)\n"
   ]
  },
  {
   "cell_type": "code",
   "execution_count": 8,
   "metadata": {},
   "outputs": [],
   "source": [
    "import yaml\n",
    "config = yaml.safe_load(open('configs/pretrained/config.yaml'))"
   ]
  },
  {
   "cell_type": "code",
   "execution_count": 11,
   "metadata": {},
   "outputs": [],
   "source": [
    "config.update(k)"
   ]
  },
  {
   "cell_type": "code",
   "execution_count": 2,
   "metadata": {},
   "outputs": [],
   "source": [
    "all_data = []\n",
    "with open(\"Data/backup/raw_text_en.list\", 'r') as f:\n",
    "    for line in f:\n",
    "        all_data.append(line.strip())\n",
    "with open(\"Data/raw_text.list\", 'r') as f:\n",
    "    for line in f:\n",
    "        all_data.append(line.strip())"
   ]
  },
  {
   "cell_type": "code",
   "execution_count": 4,
   "metadata": {},
   "outputs": [],
   "source": [
    "import random\n",
    "\n",
    "random.shuffle(all_data)\n",
    "\n",
    "valid = all_data[:10]\n",
    "train = all_data[10:]"
   ]
  },
  {
   "cell_type": "code",
   "execution_count": 6,
   "metadata": {},
   "outputs": [],
   "source": [
    "with open(\"Data/sovits_svc/train.list\",'w') as f:\n",
    "    for line in train:\n",
    "        line = line.strip()\n",
    "        f.write(line + '\\n')\n",
    "\n",
    "with open(\"Data/sovits_svc/dev.list\",'w') as f:\n",
    "    for line in valid:\n",
    "        line = line.strip()\n",
    "        f.write(line + '\\n')"
   ]
  },
  {
   "cell_type": "code",
   "execution_count": 3,
   "metadata": {},
   "outputs": [],
   "source": [
    "with open(\"Data/raw_text.list\",'w') as f:\n",
    "    for line in all_data:\n",
    "        line = line.strip()\n",
    "        f.write(line + '\\n')"
   ]
  }
 ],
 "metadata": {
  "kernelspec": {
   "display_name": "sovits",
   "language": "python",
   "name": "python3"
  },
  "language_info": {
   "codemirror_mode": {
    "name": "ipython",
    "version": 3
   },
   "file_extension": ".py",
   "mimetype": "text/x-python",
   "name": "python",
   "nbconvert_exporter": "python",
   "pygments_lexer": "ipython3",
   "version": "3.8.20"
  }
 },
 "nbformat": 4,
 "nbformat_minor": 2
}
