{
 "cells": [
  {
   "cell_type": "code",
   "execution_count": 1,
   "metadata": {},
   "outputs": [],
   "source": [
    "import utils\n",
    "\n",
    "f0_predictor = utils.get_f0_predictor('rmvpe',\n",
    "                                        sampling_rate=44100,\n",
    "                                        hop_length=512,\n",
    "                                        device='cuda',\n",
    "                                        threshold=0.05)"
   ]
  },
  {
   "cell_type": "code",
   "execution_count": 2,
   "metadata": {},
   "outputs": [],
   "source": [
    "import librosa\n",
    "wav, sr = librosa.load(\"notebook/test_audios/ref_audio/24k_xigua.wav\", sr=44100)"
   ]
  },
  {
   "cell_type": "code",
   "execution_count": 3,
   "metadata": {},
   "outputs": [],
   "source": [
    "import time\n",
    "\n",
    "\n",
    "f0, uv = f0_predictor.compute_f0_uv(wav)\n"
   ]
  },
  {
   "cell_type": "code",
   "execution_count": 8,
   "metadata": {},
   "outputs": [],
   "source": [
    "import yaml\n",
    "config = yaml.safe_load(open('configs/pretrained/config.yaml'))"
   ]
  },
  {
   "cell_type": "code",
   "execution_count": 11,
   "metadata": {},
   "outputs": [],
   "source": [
    "config.update()"
   ]
  },
  {
   "cell_type": "code",
   "execution_count": 2,
   "metadata": {},
   "outputs": [],
   "source": [
    "all_data = []\n",
    "with open(\"Data/backup/raw_text_en.list\", 'r') as f:\n",
    "    for line in f:\n",
    "        all_data.append(line.strip())\n",
    "with open(\"Data/raw_text.list\", 'r') as f:\n",
    "    for line in f:\n",
    "        all_data.append(line.strip())"
   ]
  },
  {
   "cell_type": "code",
   "execution_count": 4,
   "metadata": {},
   "outputs": [],
   "source": [
    "import random\n",
    "\n",
    "random.shuffle(all_data)\n",
    "\n",
    "valid = all_data[:10]\n",
    "train = all_data[10:]"
   ]
  },
  {
   "cell_type": "code",
   "execution_count": 6,
   "metadata": {},
   "outputs": [],
   "source": [
    "with open(\"Data/sovits_svc/train.list\",'w') as f:\n",
    "    for line in train:\n",
    "        line = line.strip()\n",
    "        f.write(line + '\\n')\n",
    "\n",
    "with open(\"Data/sovits_svc/dev.list\",'w') as f:\n",
    "    for line in valid:\n",
    "        line = line.strip()\n",
    "        f.write(line + '\\n')"
   ]
  },
  {
   "cell_type": "code",
   "execution_count": 3,
   "metadata": {},
   "outputs": [],
   "source": [
    "with open(\"Data/raw_text.list\",'w') as f:\n",
    "    for line in all_data:\n",
    "        line = line.strip()\n",
    "        f.write(line + '\\n')"
   ]
  },
  {
   "cell_type": "code",
   "execution_count": 13,
   "metadata": {},
   "outputs": [],
   "source": [
    "import os\n",
    "from pathlib import Path\n",
    "\n",
    "\n",
    "dir = \"ckpts/sunyanzi/audio_slice/sunyanzi\"\n",
    "p = Path(dir)"
   ]
  },
  {
   "cell_type": "code",
   "execution_count": 9,
   "metadata": {},
   "outputs": [],
   "source": [
    "def move_files_simple(source_dir, target_dir):\n",
    "    source_path = Path(source_dir)\n",
    "    target_path = Path(target_dir)\n",
    "    \n",
    "    # 确保目标目录存在\n",
    "    target_path.mkdir(parents=True, exist_ok=True)\n",
    "    \n",
    "    # 移动所有文件\n",
    "    for file_path in source_path.glob(\"*.wav\"):\n",
    "        if file_path.is_file():\n",
    "            file_path.rename(target_path / file_path.name)\n",
    "            print(f\"Moved: {file_path.name}\")"
   ]
  },
  {
   "cell_type": "code",
   "execution_count": null,
   "metadata": {},
   "outputs": [],
   "source": [
    "move_files_simple(p, p.parent.parent/'sunyanzi')"
   ]
  },
  {
   "cell_type": "code",
   "execution_count": 5,
   "metadata": {},
   "outputs": [],
   "source": [
    "from pathlib import Path\n",
    "\n",
    "t = Path(\"ckpts/sunyanzi/audio_slice/sunyanzi/sunyanzi_000000.wav\")"
   ]
  },
  {
   "cell_type": "code",
   "execution_count": 6,
   "metadata": {},
   "outputs": [
    {
     "data": {
      "text/plain": [
       "'sunyanzi_000000_f0.npy'"
      ]
     },
     "execution_count": 6,
     "metadata": {},
     "output_type": "execute_result"
    }
   ],
   "source": [
    "\"_\".join(t.stem.split('_')[:2]) + '_f0.npy'"
   ]
  },
  {
   "cell_type": "code",
   "execution_count": 9,
   "metadata": {},
   "outputs": [
    {
     "data": {
      "text/plain": [
       "False"
      ]
     },
     "execution_count": 9,
     "metadata": {},
     "output_type": "execute_result"
    }
   ],
   "source": [
    "any(t.glob(\"g_*.pth\"))"
   ]
  },
  {
   "cell_type": "code",
   "execution_count": 8,
   "metadata": {},
   "outputs": [
    {
     "data": {
      "text/plain": [
       "[]"
      ]
     },
     "execution_count": 8,
     "metadata": {},
     "output_type": "execute_result"
    }
   ],
   "source": [
    " list(t.glob(\"g_*.pth\"))"
   ]
  },
  {
   "cell_type": "code",
   "execution_count": 1,
   "metadata": {},
   "outputs": [
    {
     "name": "stdout",
     "output_type": "stream",
     "text": [
      "=== Python Environment ===\n",
      "Python executable: /home/ljj/miniconda3/envs/sovits-svc/bin/python\n",
      "Python version: 3.8.19 (default, Mar 20 2024, 19:58:24) \n",
      "[GCC 11.2.0]\n",
      "\n",
      "=== PyTorch Information ===\n",
      "PyTorch location: /home/ljj/miniconda3/envs/sovits-svc/lib/python3.8/site-packages/torch/__init__.py\n",
      "PyTorch version: 2.2.1+cu121\n",
      "CUDA available: True\n",
      "CUDA version: 12.1\n",
      "CUDNN version: 8902\n",
      "\n",
      "=== Environment Variables ===\n",
      "CONDA_PREFIX: /home/ljj/miniconda3/envs/sovits-svc\n",
      "LD_LIBRARY_PATH: Not set\n",
      "\n",
      "=== CUDA Device Information ===\n",
      "Current device: 0\n",
      "Device name: NVIDIA GeForce RTX 4090\n",
      "Device capability: (8, 9)\n",
      "\n",
      "=== Python Path ===\n",
      "/mnt/e/Workspace/growth/audio/so-vits-svc\n",
      "/home/ljj/miniconda3/envs/sovits-svc/lib/python38.zip\n",
      "/home/ljj/miniconda3/envs/sovits-svc/lib/python3.8\n",
      "/home/ljj/miniconda3/envs/sovits-svc/lib/python3.8/lib-dynload\n",
      "\n",
      "/home/ljj/miniconda3/envs/sovits-svc/lib/python3.8/site-packages\n",
      "\n",
      "=== CUDA Library Check ===\n",
      "Looking for CUDA libraries in: /home/ljj/miniconda3/envs/sovits-svc/lib/python3.8/site-packages/torch\n",
      "\n",
      "Checking /home/ljj/miniconda3/envs/sovits-svc/lib/python3.8/site-packages/torch/lib:\n",
      "Found: libtorch_cuda_linalg.so\n",
      "Found: libtorch_cuda.so\n",
      "Found: libc10_cuda.so\n",
      "\n",
      "Checking /home/ljj/miniconda3/envs/sovits-svc:\n",
      "\n",
      "Checking /usr/local/cuda/lib64:\n",
      "Found: libcudart.so.11.0\n",
      "Found: libcudart.so\n",
      "Found: libcudart.so.11.7.99\n",
      "Found: libcudadevrt.a\n",
      "Found: libcudart_static.a\n",
      "\n",
      "Checking /usr/lib/x86_64-linux-gnu:\n",
      "Found: libicudata.so.70\n",
      "Found: libicudata.so.70.1\n"
     ]
    }
   ],
   "source": [
    "import sys\n",
    "import os\n",
    "import torch\n",
    "import torch.backends.cudnn as cudnn\n",
    "\n",
    "def check_environment():\n",
    "    print(\"=== Python Environment ===\")\n",
    "    print(f\"Python executable: {sys.executable}\")\n",
    "    print(f\"Python version: {sys.version}\")\n",
    "    \n",
    "    print(\"\\n=== PyTorch Information ===\")\n",
    "    print(f\"PyTorch location: {torch.__file__}\")\n",
    "    print(f\"PyTorch version: {torch.__version__}\")\n",
    "    print(f\"CUDA available: {torch.cuda.is_available()}\")\n",
    "    print(f\"CUDA version: {torch.version.cuda}\")\n",
    "    print(f\"CUDNN version: {cudnn.version()}\")\n",
    "    \n",
    "    print(\"\\n=== Environment Variables ===\")\n",
    "    print(f\"CONDA_PREFIX: {os.environ.get('CONDA_PREFIX', 'Not set')}\")\n",
    "    print(f\"LD_LIBRARY_PATH: {os.environ.get('LD_LIBRARY_PATH', 'Not set')}\")\n",
    "    \n",
    "    if torch.cuda.is_available():\n",
    "        print(\"\\n=== CUDA Device Information ===\")\n",
    "        print(f\"Current device: {torch.cuda.current_device()}\")\n",
    "        print(f\"Device name: {torch.cuda.get_device_name()}\")\n",
    "        try:\n",
    "            print(f\"Device capability: {torch.cuda.get_device_capability()}\")\n",
    "        except AttributeError:\n",
    "            pass\n",
    "    \n",
    "    print(\"\\n=== Python Path ===\")\n",
    "    for path in sys.path:\n",
    "        print(path)\n",
    "    \n",
    "    # 尝试定位 CUDA 相关库\n",
    "    print(\"\\n=== CUDA Library Check ===\")\n",
    "    torch_path = os.path.dirname(torch.__file__)\n",
    "    print(f\"Looking for CUDA libraries in: {torch_path}\")\n",
    "    \n",
    "    # 检查常见的库文件位置\n",
    "    cuda_paths = [\n",
    "        os.path.join(torch_path, 'lib'),\n",
    "        os.environ.get('CONDA_PREFIX', ''),\n",
    "        '/usr/local/cuda/lib64',\n",
    "        '/usr/lib/x86_64-linux-gnu'\n",
    "    ]\n",
    "    \n",
    "    for path in cuda_paths:\n",
    "        if os.path.exists(path):\n",
    "            print(f\"\\nChecking {path}:\")\n",
    "            cuda_libs = [f for f in os.listdir(path) if 'cuda' in f.lower() or 'cudnn' in f.lower()]\n",
    "            for lib in cuda_libs:\n",
    "                print(f\"Found: {lib}\")\n",
    "\n",
    "if __name__ == \"__main__\":\n",
    "    check_environment()"
   ]
  }
 ],
 "metadata": {
  "kernelspec": {
   "display_name": "sovits",
   "language": "python",
   "name": "python3"
  },
  "language_info": {
   "codemirror_mode": {
    "name": "ipython",
    "version": 3
   },
   "file_extension": ".py",
   "mimetype": "text/x-python",
   "name": "python",
   "nbconvert_exporter": "python",
   "pygments_lexer": "ipython3",
   "version": "3.8.19"
  }
 },
 "nbformat": 4,
 "nbformat_minor": 2
}
